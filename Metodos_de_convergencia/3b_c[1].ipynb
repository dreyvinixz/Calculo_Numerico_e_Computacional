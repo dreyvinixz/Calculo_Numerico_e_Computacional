{
 "cells": [
  {
   "cell_type": "markdown",
   "metadata": {},
   "source": [
    "164402 - Andrey Vinicius Santos Souza"
   ]
  },
  {
   "cell_type": "code",
   "execution_count": null,
   "metadata": {
    "colab": {
     "base_uri": "https://localhost:8080/",
     "height": 973
    },
    "executionInfo": {
     "elapsed": 91901,
     "status": "ok",
     "timestamp": 1747448551321,
     "user": {
      "displayName": "Derick_1337",
      "userId": "09493284610977149643"
     },
     "user_tz": 180
    },
    "id": "XxfAyDCpDIQX",
    "outputId": "7c5f53c4-802b-471d-a1a1-9c817ebd4403"
   },
   "outputs": [
    {
     "name": "stdout",
     "output_type": "stream",
     "text": [
      "Digite o tamanho da matriz no formato 'n' para nxn: 3\n",
      "\n",
      "📥 Preenchendo a matriz A:\n",
      "  a11: 3\n",
      "  a12: 1\n",
      "  a13: -1\n",
      "  a21: 2\n",
      "  a22: 4\n",
      "  a23: 1\n",
      "  a31: 1\n",
      "  a32: -2\n",
      "  a33: 5\n",
      "\n",
      "📥 Preenchendo o vetor b:\n",
      "  b1: 500\n",
      "  b2: 800\n",
      "  b3: 300\n",
      "\n",
      "✅ Matriz A:\n"
     ]
    },
    {
     "data": {
      "text/latex": [
       "$\\displaystyle \\left[\\begin{matrix}3.0 & 1.0 & -1.0\\\\2.0 & 4.0 & 1.0\\\\1.0 & -2.0 & 5.0\\end{matrix}\\right]$"
      ],
      "text/plain": [
       "Matrix([\n",
       "[3.0,  1.0, -1.0],\n",
       "[2.0,  4.0,  1.0],\n",
       "[1.0, -2.0,  5.0]])"
      ]
     },
     "metadata": {},
     "output_type": "display_data"
    },
    {
     "name": "stdout",
     "output_type": "stream",
     "text": [
      "\n",
      "🔄 Matriz de Permutação P:\n"
     ]
    },
    {
     "data": {
      "text/latex": [
       "$\\displaystyle \\left[\\begin{matrix}1.0 & 0.0 & 0.0\\\\0.0 & 1.0 & 0.0\\\\0.0 & 0.0 & 1.0\\end{matrix}\\right]$"
      ],
      "text/plain": [
       "Matrix([\n",
       "[1.0, 0.0, 0.0],\n",
       "[0.0, 1.0, 0.0],\n",
       "[0.0, 0.0, 1.0]])"
      ]
     },
     "metadata": {},
     "output_type": "display_data"
    },
    {
     "name": "stdout",
     "output_type": "stream",
     "text": [
      "\n",
      "🟩 Matriz L (8 casas decimais):\n"
     ]
    },
    {
     "data": {
      "text/latex": [
       "$\\displaystyle \\left[\\begin{matrix}1.0 & 0.0 & 0.0\\\\0.66666667 & 1.0 & 0.0\\\\0.33333333 & -0.7 & 1.0\\end{matrix}\\right]$"
      ],
      "text/plain": [
       "Matrix([\n",
       "[       1.0,  0.0, 0.0],\n",
       "[0.66666667,  1.0, 0.0],\n",
       "[0.33333333, -0.7, 1.0]])"
      ]
     },
     "metadata": {},
     "output_type": "display_data"
    },
    {
     "name": "stdout",
     "output_type": "stream",
     "text": [
      "\n",
      "🟥 Matriz U (8 casas decimais):\n"
     ]
    },
    {
     "data": {
      "text/latex": [
       "$\\displaystyle \\left[\\begin{matrix}3.0 & 1.0 & -1.0\\\\0.0 & 3.33333333 & 1.66666667\\\\0.0 & 0.0 & 6.5\\end{matrix}\\right]$"
      ],
      "text/plain": [
       "Matrix([\n",
       "[3.0,        1.0,       -1.0],\n",
       "[0.0, 3.33333333, 1.66666667],\n",
       "[0.0,        0.0,        6.5]])"
      ]
     },
     "metadata": {},
     "output_type": "display_data"
    },
    {
     "name": "stdout",
     "output_type": "stream",
     "text": [
      "\n",
      "📌 Vetor solução x (8 casas decimais):\n",
      "x1 = 155.38461538\n",
      "x2 = 104.61538462\n",
      "x3 = 70.76923077\n",
      "\n",
      "🔍 Verificação A * x:\n"
     ]
    },
    {
     "data": {
      "text/latex": [
       "$\\displaystyle \\left[\\begin{matrix}500.0\\\\800.0\\\\300.0\\end{matrix}\\right]$"
      ],
      "text/plain": [
       "Matrix([\n",
       "[500.0],\n",
       "[800.0],\n",
       "[300.0]])"
      ]
     },
     "metadata": {},
     "output_type": "display_data"
    },
    {
     "name": "stdout",
     "output_type": "stream",
     "text": [
      "\n",
      "🔍 Vetor b original:\n"
     ]
    },
    {
     "data": {
      "text/latex": [
       "$\\displaystyle \\left[\\begin{matrix}500.0\\\\800.0\\\\300.0\\end{matrix}\\right]$"
      ],
      "text/plain": [
       "Matrix([\n",
       "[500.0],\n",
       "[800.0],\n",
       "[300.0]])"
      ]
     },
     "metadata": {},
     "output_type": "display_data"
    }
   ],
   "source": [
    "import numpy as np\n",
    "import sympy as sp\n",
    "\n",
    "np.set_printoptions(precision=8, suppress=True)\n",
    "\n",
    "def lu_com_pivotamento_parcial(A):\n",
    "    n = A.shape[0]\n",
    "    L = np.eye(n)\n",
    "    U = A.copy().astype(np.float64)\n",
    "    P = np.eye(n)\n",
    "\n",
    "    for i in range(n):\n",
    "        # Pivotamento parcial\n",
    "        max_row = np.argmax(np.abs(U[i:, i])) + i\n",
    "        if i != max_row:\n",
    "            U[[i, max_row], :] = U[[max_row, i], :]\n",
    "            P[[i, max_row], :] = P[[max_row, i], :]\n",
    "            if i > 0:\n",
    "                L[[i, max_row], :i] = L[[max_row, i], :i]\n",
    "\n",
    "        for j in range(i+1, n):\n",
    "            if U[i, i] == 0:\n",
    "                raise ZeroDivisionError(\"Pivô zero encontrado!\")\n",
    "            fator = U[j, i] / U[i, i]\n",
    "            L[j, i] = fator\n",
    "            U[j, :] -= fator * U[i, :]\n",
    "\n",
    "    return P, L, U\n",
    "\n",
    "def resolver_sistema_lu(P, L, U, b):\n",
    "    # Aplica permutação ao vetor b\n",
    "    Pb = P @ b\n",
    "\n",
    "    # Substituição progressiva para resolver L*y = Pb\n",
    "    n = len(b)\n",
    "    y = np.zeros(n)\n",
    "    for i in range(n):\n",
    "        y[i] = Pb[i] - np.dot(L[i, :i], y[:i])\n",
    "\n",
    "    # Substituição regressiva para resolver U*x = y\n",
    "    x = np.zeros(n)\n",
    "    for i in range(n-1, -1, -1):\n",
    "        x[i] = (y[i] - np.dot(U[i, i+1:], x[i+1:])) / U[i, i]\n",
    "\n",
    "    return x\n",
    "\n",
    "def entrada_matriz():\n",
    "    n = int(input(\"Digite o tamanho da matriz no formato 'n' para nxn: \"))\n",
    "    A = np.zeros((n, n))\n",
    "    b = np.zeros(n)\n",
    "\n",
    "    print(\"\\n📥 Preenchendo a matriz A:\")\n",
    "    for i in range(n):\n",
    "        for j in range(n):\n",
    "            A[i, j] = float(input(f\"  a{i+1}{j+1}: \"))\n",
    "\n",
    "    print(\"\\n📥 Preenchendo o vetor b:\")\n",
    "    for i in range(n):\n",
    "        b[i] = float(input(f\"  b{i+1}: \"))\n",
    "\n",
    "    return A, b\n",
    "\n",
    "# Execução principal\n",
    "A, b = entrada_matriz()\n",
    "P, L, U = lu_com_pivotamento_parcial(A)\n",
    "x = resolver_sistema_lu(P, L, U, b)\n",
    "\n",
    "# Exibir resultados com 8 casas decimais\n",
    "print(\"\\n✅ Matriz A:\")\n",
    "display(sp.Matrix(A))\n",
    "\n",
    "print(\"\\n🔄 Matriz de Permutação P:\")\n",
    "display(sp.Matrix(P))\n",
    "\n",
    "print(\"\\n🟩 Matriz L (8 casas decimais):\")\n",
    "display(sp.Matrix(np.round(L, 8)))\n",
    "\n",
    "print(\"\\n🟥 Matriz U (8 casas decimais):\")\n",
    "display(sp.Matrix(np.round(U, 8)))\n",
    "\n",
    "print(\"\\n📌 Vetor solução x (8 casas decimais):\")\n",
    "for i, val in enumerate(x):\n",
    "    print(f\"x{i+1} = {val:.8f}\")\n",
    "\n",
    "# Verificação final\n",
    "print(\"\\n🔍 Verificação A * x:\")\n",
    "Ax = A @ x\n",
    "display(sp.Matrix(np.round(Ax, 8)))\n",
    "print(\"\\n🔍 Vetor b original:\")\n",
    "display(sp.Matrix(np.round(b, 8)))\n"
   ]
  },
  {
   "cell_type": "markdown",
   "metadata": {
    "id": "4Fwt7YOIOprR"
   },
   "source": [
    "# **Questão** **3**.**b**\n",
    "\n",
    "Os mesmos valores *x*, *y* e *z* utilizando Lower and Upper  **são**:\n",
    "\n",
    "📌 Vetor solução (8 casas decimais):\n",
    "\n",
    "**x** = 155.38461538\n",
    "\n",
    "**y** = 104.61538462\n",
    "\n",
    "**z** = 70.76923077"
   ]
  },
  {
   "cell_type": "code",
   "execution_count": null,
   "metadata": {
    "colab": {
     "base_uri": "https://localhost:8080/",
     "height": 973
    },
    "executionInfo": {
     "elapsed": 19278,
     "status": "ok",
     "timestamp": 1747449034882,
     "user": {
      "displayName": "Derick_1337",
      "userId": "09493284610977149643"
     },
     "user_tz": 180
    },
    "id": "GMIHoe8jERh8",
    "outputId": "099b46ad-eb8b-4f20-9488-023e2b18b29b"
   },
   "outputs": [
    {
     "name": "stdout",
     "output_type": "stream",
     "text": [
      "Digite o tamanho da matriz no formato 'n' para nxn: 3\n",
      "\n",
      "📥 Preenchendo a matriz A:\n",
      "  a11: 3\n",
      "  a12: 1\n",
      "  a13: -1\n",
      "  a21: 2\n",
      "  a22: 4\n",
      "  a23: 1\n",
      "  a31: 1\n",
      "  a32: -2\n",
      "  a33: 5\n",
      "\n",
      "📥 Preenchendo o vetor b:\n",
      "  b1: 500\n",
      "  b2: 800\n",
      "  b3: 300\n",
      "\n",
      "✅ Matriz A:\n"
     ]
    },
    {
     "data": {
      "text/latex": [
       "$\\displaystyle \\left[\\begin{matrix}3.0 & 1.0 & -1.0\\\\2.0 & 4.0 & 1.0\\\\1.0 & -2.0 & 5.0\\end{matrix}\\right]$"
      ],
      "text/plain": [
       "Matrix([\n",
       "[3.0,  1.0, -1.0],\n",
       "[2.0,  4.0,  1.0],\n",
       "[1.0, -2.0,  5.0]])"
      ]
     },
     "metadata": {},
     "output_type": "display_data"
    },
    {
     "name": "stdout",
     "output_type": "stream",
     "text": [
      "\n",
      "🔄 Matriz de Permutação P:\n"
     ]
    },
    {
     "data": {
      "text/latex": [
       "$\\displaystyle \\left[\\begin{matrix}1.0 & 0.0 & 0.0\\\\0.0 & 1.0 & 0.0\\\\0.0 & 0.0 & 1.0\\end{matrix}\\right]$"
      ],
      "text/plain": [
       "Matrix([\n",
       "[1.0, 0.0, 0.0],\n",
       "[0.0, 1.0, 0.0],\n",
       "[0.0, 0.0, 1.0]])"
      ]
     },
     "metadata": {},
     "output_type": "display_data"
    },
    {
     "name": "stdout",
     "output_type": "stream",
     "text": [
      "\n",
      "🟩 Matriz L (12 casas decimais):\n"
     ]
    },
    {
     "data": {
      "text/latex": [
       "$\\displaystyle \\left[\\begin{matrix}1.0 & 0.0 & 0.0\\\\0.666666666667 & 1.0 & 0.0\\\\0.333333333333 & -0.7 & 1.0\\end{matrix}\\right]$"
      ],
      "text/plain": [
       "Matrix([\n",
       "[           1.0,  0.0, 0.0],\n",
       "[0.666666666667,  1.0, 0.0],\n",
       "[0.333333333333, -0.7, 1.0]])"
      ]
     },
     "metadata": {},
     "output_type": "display_data"
    },
    {
     "name": "stdout",
     "output_type": "stream",
     "text": [
      "\n",
      "🟥 Matriz U (12 casas decimais):\n"
     ]
    },
    {
     "data": {
      "text/latex": [
       "$\\displaystyle \\left[\\begin{matrix}3.0 & 1.0 & -1.0\\\\0.0 & 3.333333333333 & 1.666666666667\\\\0.0 & 0.0 & 6.5\\end{matrix}\\right]$"
      ],
      "text/plain": [
       "Matrix([\n",
       "[3.0,            1.0,           -1.0],\n",
       "[0.0, 3.333333333333, 1.666666666667],\n",
       "[0.0,            0.0,            6.5]])"
      ]
     },
     "metadata": {},
     "output_type": "display_data"
    },
    {
     "name": "stdout",
     "output_type": "stream",
     "text": [
      "\n",
      "📌 Vetor solução x (12 casas decimais):\n",
      "x1 = 155.384615384615\n",
      "x2 = 104.615384615385\n",
      "x3 = 70.769230769231\n",
      "\n",
      "🔍 Verificação A * x:\n"
     ]
    },
    {
     "data": {
      "text/latex": [
       "$\\displaystyle \\left[\\begin{matrix}500.0\\\\800.0\\\\300.0\\end{matrix}\\right]$"
      ],
      "text/plain": [
       "Matrix([\n",
       "[500.0],\n",
       "[800.0],\n",
       "[300.0]])"
      ]
     },
     "metadata": {},
     "output_type": "display_data"
    },
    {
     "name": "stdout",
     "output_type": "stream",
     "text": [
      "\n",
      "🔍 Vetor b original:\n"
     ]
    },
    {
     "data": {
      "text/latex": [
       "$\\displaystyle \\left[\\begin{matrix}500.0\\\\800.0\\\\300.0\\end{matrix}\\right]$"
      ],
      "text/plain": [
       "Matrix([\n",
       "[500.0],\n",
       "[800.0],\n",
       "[300.0]])"
      ]
     },
     "metadata": {},
     "output_type": "display_data"
    }
   ],
   "source": [
    "import numpy as np\n",
    "import sympy as sp\n",
    "\n",
    "np.set_printoptions(precision=12, suppress=True)\n",
    "\n",
    "def lu_com_pivotamento_parcial(A):\n",
    "    n = A.shape[0]\n",
    "    L = np.eye(n)\n",
    "    U = A.copy().astype(np.float64)\n",
    "    P = np.eye(n)\n",
    "\n",
    "    for i in range(n):\n",
    "        # Pivotamento parcial\n",
    "        max_row = np.argmax(np.abs(U[i:, i])) + i\n",
    "        if i != max_row:\n",
    "            U[[i, max_row], :] = U[[max_row, i], :]\n",
    "            P[[i, max_row], :] = P[[max_row, i], :]\n",
    "            if i > 0:\n",
    "                L[[i, max_row], :i] = L[[max_row, i], :i]\n",
    "\n",
    "        for j in range(i+1, n):\n",
    "            if U[i, i] == 0:\n",
    "                raise ZeroDivisionError(\"Pivô zero encontrado!\")\n",
    "            fator = U[j, i] / U[i, i]\n",
    "            L[j, i] = fator\n",
    "            U[j, :] -= fator * U[i, :]\n",
    "\n",
    "    return P, L, U\n",
    "\n",
    "def resolver_sistema_lu(P, L, U, b):\n",
    "    # Aplica permutação ao vetor b\n",
    "    Pb = P @ b\n",
    "\n",
    "    # Substituição progressiva para resolver L*y = Pb\n",
    "    n = len(b)\n",
    "    y = np.zeros(n)\n",
    "    for i in range(n):\n",
    "        y[i] = Pb[i] - np.dot(L[i, :i], y[:i])\n",
    "\n",
    "    # Substituição regressiva para resolver U*x = y\n",
    "    x = np.zeros(n)\n",
    "    for i in range(n-1, -1, -1):\n",
    "        x[i] = (y[i] - np.dot(U[i, i+1:], x[i+1:])) / U[i, i]\n",
    "\n",
    "    return x\n",
    "\n",
    "def entrada_matriz():\n",
    "    n = int(input(\"Digite o tamanho da matriz no formato 'n' para nxn: \"))\n",
    "    A = np.zeros((n, n))\n",
    "    b = np.zeros(n)\n",
    "\n",
    "    print(\"\\n📥 Preenchendo a matriz A:\")\n",
    "    for i in range(n):\n",
    "        for j in range(n):\n",
    "            A[i, j] = float(input(f\"  a{i+1}{j+1}: \"))\n",
    "\n",
    "    print(\"\\n📥 Preenchendo o vetor b:\")\n",
    "    for i in range(n):\n",
    "        b[i] = float(input(f\"  b{i+1}: \"))\n",
    "\n",
    "    return A, b\n",
    "\n",
    "# Execução principal\n",
    "A, b = entrada_matriz()\n",
    "P, L, U = lu_com_pivotamento_parcial(A)\n",
    "x = resolver_sistema_lu(P, L, U, b)\n",
    "\n",
    "# Exibir resultados com 12 casas decimais\n",
    "print(\"\\n✅ Matriz A:\")\n",
    "display(sp.Matrix(A))\n",
    "\n",
    "print(\"\\n🔄 Matriz de Permutação P:\")\n",
    "display(sp.Matrix(P))\n",
    "\n",
    "print(\"\\n🟩 Matriz L (12 casas decimais):\")\n",
    "display(sp.Matrix(np.round(L, 12)))\n",
    "\n",
    "print(\"\\n🟥 Matriz U (12 casas decimais):\")\n",
    "display(sp.Matrix(np.round(U, 12)))\n",
    "\n",
    "print(\"\\n📌 Vetor solução x (12 casas decimais):\")\n",
    "for i, val in enumerate(x):\n",
    "    print(f\"x{i+1} = {val:.12f}\")\n",
    "\n",
    "# Verificação final\n",
    "print(\"\\n🔍 Verificação A * x:\")\n",
    "Ax = A @ x\n",
    "display(sp.Matrix(np.round(Ax, 12)))\n",
    "print(\"\\n🔍 Vetor b original:\")\n",
    "display(sp.Matrix(np.round(b, 12)))\n"
   ]
  },
  {
   "cell_type": "markdown",
   "metadata": {
    "id": "1gGeBua-PjnA"
   },
   "source": [
    "# **Questão** **3**.**c**\n",
    "\n",
    "Os mesmos valores *x*, *y* e *z* utilizando Lower and Upper  **são**:\n",
    "\n",
    "📌 Vetor solução (12 casas decimais):\n",
    "\n",
    "**x** = 155.384615384615\n",
    "\n",
    "**y** = 104.615384615385\n",
    "\n",
    "**z** = 70.769230769231"
   ]
  }
 ],
 "metadata": {
  "colab": {
   "provenance": []
  },
  "kernelspec": {
   "display_name": "Python 3",
   "name": "python3"
  },
  "language_info": {
   "name": "python"
  }
 },
 "nbformat": 4,
 "nbformat_minor": 0
}
