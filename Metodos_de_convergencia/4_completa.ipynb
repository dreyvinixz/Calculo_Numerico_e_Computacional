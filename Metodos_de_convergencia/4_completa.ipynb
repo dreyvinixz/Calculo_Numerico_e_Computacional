{
  "cells": [
    {
      "cell_type": "markdown",
      "metadata": {
        "id": "8XXNvBnmtfSF"
      },
      "source": [
        "164402 - Andrey Vinicius Santos Souza"
      ]
    },
    {
      "cell_type": "code",
      "execution_count": 1,
      "metadata": {
        "colab": {
          "base_uri": "https://localhost:8080/"
        },
        "id": "ikv5uhYsv1p4",
        "outputId": "6fd23ae4-3dcd-4b99-896a-182fbb70e2ed"
      },
      "outputs": [
        {
          "name": "stdout",
          "output_type": "stream",
          "text": [
            "Digite o tamanho da matriz no formato 'nxn' (ex: 3x3): 3\n",
            "\n",
            "📥 Preenchendo a matriz A (coeficientes do sistema):\n",
            "  a11 = 2\n",
            "  a12 = 1\n",
            "  a13 = -1\n",
            "  a21 = -3\n",
            "  a22 = 4\n",
            "  a23 = 2\n",
            "  a31 = 1\n",
            "  a32 = 2\n",
            "  a33 = 3\n",
            "\n",
            "📥 Preenchendo o vetor b (termos independentes):\n",
            "  b1 = 120\n",
            "  b2 = -20\n",
            "  b3 = 90\n",
            "\n",
            "🔢 Matriz aumentada inicial:\n",
            "[[  2.   1.  -1. 120.]\n",
            " [ -3.   4.   2. -20.]\n",
            " [  1.   2.   3.  90.]]\n",
            "\n",
            "🔄 Passo 1 - Início da iteração\n",
            "\n",
            "🔁 Trocando linha 1 com linha 2 (pivotamento parcial):\n",
            "[[ -3.   4.   2. -20.]\n",
            " [  2.   1.  -1. 120.]\n",
            " [  1.   2.   3.  90.]]\n",
            "\n",
            "🔨 Calculando fator de eliminação: -0.666667 para a linha 2\n",
            "\n",
            "📊 Após eliminação da linha 2:\n",
            "[[-3.00000e+00  4.00000e+00  2.00000e+00 -2.00000e+01]\n",
            " [-1.00000e-06  3.66667e+00  3.33334e-01  1.06667e+02]\n",
            " [ 1.00000e+00  2.00000e+00  3.00000e+00  9.00000e+01]]\n",
            "\n",
            "🔨 Calculando fator de eliminação: -0.333333 para a linha 3\n",
            "\n",
            "📊 Após eliminação da linha 3:\n",
            "[[-3.00000e+00  4.00000e+00  2.00000e+00 -2.00000e+01]\n",
            " [-1.00000e-06  3.66667e+00  3.33334e-01  1.06667e+02]\n",
            " [ 1.00000e-06  3.33333e+00  3.66667e+00  8.33333e+01]]\n",
            "\n",
            "🔄 Passo 2 - Início da iteração\n",
            "\n",
            "🔁 Nenhuma troca de linhas necessária.\n",
            "\n",
            "🔨 Calculando fator de eliminação: 0.909089 para a linha 3\n",
            "\n",
            "📊 Após eliminação da linha 3:\n",
            "[[-3.00000e+00  4.00000e+00  2.00000e+00 -2.00000e+01]\n",
            " [-1.00000e-06  3.66667e+00  3.33334e-01  1.06667e+02]\n",
            " [ 1.00000e-06  6.36370e-07  3.36364e+00 -1.36365e+01]]\n",
            "\n",
            "🔄 Passo 3 - Início da iteração\n",
            "\n",
            "🔁 Nenhuma troca de linhas necessária.\n",
            "\n",
            "📐 Matriz triangular superior:\n",
            "[[-3.00000e+00  4.00000e+00  2.00000e+00 -2.00000e+01]\n",
            " [-1.00000e-06  3.66667e+00  3.33334e-01  1.06667e+02]\n",
            " [ 1.00000e-06  6.36370e-07  3.36364e+00 -1.36365e+01]]\n",
            "\n",
            "🔻 Substituição regressiva para x3: -4.05409000\n",
            "\n",
            "🔻 Substituição regressiva para x2: 29.45950000\n",
            "\n",
            "🔻 Substituição regressiva para x1: 43.24330000\n",
            "\n",
            "✅ Solução final (com 8 casas decimais):\n",
            "x1 = 43.24330000\n",
            "x2 = 29.45950000\n",
            "x3 = -4.05409000\n"
          ]
        }
      ],
      "source": [
        "import numpy as np\n",
        "\n",
        "def arredondar(num, sig=6):\n",
        "    \"\"\"Arredonda um número para um número fixo de algarismos significativos.\"\"\"\n",
        "    if num == 0:\n",
        "        return 0.0\n",
        "    else:\n",
        "        return float(f\"{num:.{sig}g}\")\n",
        "\n",
        "def arredondar_matriz(mat, sig=6):\n",
        "    \"\"\"Aplica arredondamento a todos os elementos de uma matriz.\"\"\"\n",
        "    return np.vectorize(lambda x: arredondar(x, sig))(mat)\n",
        "\n",
        "def substituicao_regressiva(Ab, sig=6):\n",
        "    \"\"\"Executa substituição regressiva para resolver o sistema triangular superior.\"\"\"\n",
        "    n = len(Ab)\n",
        "    x = np.zeros(n)\n",
        "    for i in range(n-1, -1, -1):\n",
        "        soma = sum(arredondar(Ab[i, j] * x[j], sig) for j in range(i+1, n))\n",
        "        x[i] = arredondar((Ab[i, -1] - soma) / Ab[i, i], sig)\n",
        "        print(f\"\\n🔻 Substituição regressiva para x{i+1}: {x[i]:.8f}\")\n",
        "    return x\n",
        "\n",
        "def eliminacao_gauss_pivotamento(A, b, sig=6):\n",
        "    \"\"\"Executa a Eliminação de Gauss com pivotamento parcial e imprime cada passo.\"\"\"\n",
        "    n = len(A)\n",
        "    Ab = np.hstack((A, b.reshape(-1, 1)))  # Matriz aumentada\n",
        "\n",
        "    print(\"\\n🔢 Matriz aumentada inicial:\")\n",
        "    print(arredondar_matriz(Ab, sig))\n",
        "\n",
        "    # Eliminação com pivotamento parcial\n",
        "    for i in range(n):\n",
        "        print(f\"\\n🔄 Passo {i+1} - Início da iteração\")\n",
        "\n",
        "        # Pivotamento parcial\n",
        "        max_idx = np.argmax(np.abs(Ab[i:, i])) + i\n",
        "        if i != max_idx:\n",
        "            Ab[[i, max_idx]] = Ab[[max_idx, i]]\n",
        "            print(f\"\\n🔁 Trocando linha {i+1} com linha {max_idx+1} (pivotamento parcial):\")\n",
        "            print(arredondar_matriz(Ab, sig))\n",
        "        else:\n",
        "            print(f\"\\n🔁 Nenhuma troca de linhas necessária.\")\n",
        "\n",
        "        # Eliminação de Gauss (para zerar abaixo do pivô)\n",
        "        for j in range(i+1, n):\n",
        "            if Ab[i, i] == 0:\n",
        "                print(f\"⚠️ Pivô nulo na linha {i+1}, não é possível continuar.\")\n",
        "                continue\n",
        "            fator = arredondar(Ab[j, i] / Ab[i, i], sig)\n",
        "            print(f\"\\n🔨 Calculando fator de eliminação: {fator} para a linha {j+1}\")\n",
        "\n",
        "            for k in range(i, n+1):\n",
        "                Ab[j, k] = arredondar(Ab[j, k] - fator * Ab[i, k], sig)\n",
        "\n",
        "            print(f\"\\n📊 Após eliminação da linha {j+1}:\")\n",
        "            print(arredondar_matriz(Ab, sig))\n",
        "\n",
        "    print(\"\\n📐 Matriz triangular superior:\")\n",
        "    print(arredondar_matriz(Ab, sig))\n",
        "\n",
        "    # Substituição regressiva\n",
        "    x = substituicao_regressiva(Ab, sig)\n",
        "\n",
        "    print(\"\\n✅ Solução final (com 8 casas decimais):\")\n",
        "    for i, valor in enumerate(x, 1):\n",
        "        print(f\"x{i} = {valor:.8f}\")\n",
        "\n",
        "    return x\n",
        "\n",
        "def entrada_usuario():\n",
        "    \"\"\"Faz a entrada interativa da matriz e vetor.\"\"\"\n",
        "    try:\n",
        "        tamanho = input(\"Digite o tamanho da matriz no formato 'nxn' (ex: 3x3): \").lower().strip()\n",
        "        n = int(tamanho.split('x')[0])\n",
        "\n",
        "        A = np.zeros((n, n))\n",
        "        b = np.zeros(n)\n",
        "\n",
        "        print(\"\\n📥 Preenchendo a matriz A (coeficientes do sistema):\")\n",
        "        for i in range(n):\n",
        "            for j in range(n):\n",
        "                A[i, j] = float(input(f\"  a{i+1}{j+1} = \"))\n",
        "\n",
        "        print(\"\\n📥 Preenchendo o vetor b (termos independentes):\")\n",
        "        for i in range(n):\n",
        "            b[i] = float(input(f\"  b{i+1} = \"))\n",
        "\n",
        "        return A, b\n",
        "\n",
        "    except Exception as e:\n",
        "        print(f\"\\n❌ Erro de entrada: {e}\")\n",
        "        return None, None\n",
        "\n",
        "# Execução principal\n",
        "A, b = entrada_usuario()\n",
        "if A is not None and b is not None:\n",
        "    eliminacao_gauss_pivotamento(A, b, sig=6)\n"
      ]
    },
    {
      "cell_type": "markdown",
      "metadata": {
        "id": "SLdey9BiuGMI"
      },
      "source": [
        "## Sistema Resolvido com Método de Gauss\n",
        "\n",
        "Os valores aproximados obtidos com 8 casas decimais são:\n",
        "\n",
        "$$\n",
        "\\begin{aligned}\n",
        "x &= 43{,}24330000 \\\\\n",
        "y &= 29{,}45950000 \\\\\n",
        "z &= -4{,}05409000\n",
        "\\end{aligned}\n",
        "$$\n"
      ]
    },
    {
      "cell_type": "code",
      "execution_count": 2,
      "metadata": {
        "colab": {
          "base_uri": "https://localhost:8080/",
          "height": 1000
        },
        "id": "ZhD6bR6vuoAp",
        "outputId": "577ee2df-e1ee-483e-da85-a9ae806f3d68"
      },
      "outputs": [
        {
          "name": "stdout",
          "output_type": "stream",
          "text": [
            "Digite o tamanho da matriz no formato 'n' para nxn: 3\n",
            "\n",
            "📥 Preenchendo a matriz A:\n",
            "  a11: 2\n",
            "  a12: 1\n",
            "  a13: -1\n",
            "  a21: -3\n",
            "  a22: 4\n",
            "  a23: 2\n",
            "  a31: 1\n",
            "  a32: 2\n",
            "  a33: 3\n",
            "\n",
            "📥 Preenchendo o vetor b:\n",
            "  b1: 120\n",
            "  b2: -20\n",
            "  b3: 90\n",
            "\n",
            "✅ Matriz A:\n"
          ]
        },
        {
          "data": {
            "text/latex": [
              "$\\displaystyle \\left[\\begin{matrix}2.0 & 1.0 & -1.0\\\\-3.0 & 4.0 & 2.0\\\\1.0 & 2.0 & 3.0\\end{matrix}\\right]$"
            ],
            "text/plain": [
              "Matrix([\n",
              "[ 2.0, 1.0, -1.0],\n",
              "[-3.0, 4.0,  2.0],\n",
              "[ 1.0, 2.0,  3.0]])"
            ]
          },
          "metadata": {},
          "output_type": "display_data"
        },
        {
          "name": "stdout",
          "output_type": "stream",
          "text": [
            "\n",
            "🔄 Matriz de Permutação P:\n"
          ]
        },
        {
          "data": {
            "text/latex": [
              "$\\displaystyle \\left[\\begin{matrix}0.0 & 1.0 & 0.0\\\\1.0 & 0.0 & 0.0\\\\0.0 & 0.0 & 1.0\\end{matrix}\\right]$"
            ],
            "text/plain": [
              "Matrix([\n",
              "[0.0, 1.0, 0.0],\n",
              "[1.0, 0.0, 0.0],\n",
              "[0.0, 0.0, 1.0]])"
            ]
          },
          "metadata": {},
          "output_type": "display_data"
        },
        {
          "name": "stdout",
          "output_type": "stream",
          "text": [
            "\n",
            "🟩 Matriz L (8 casas decimais):\n"
          ]
        },
        {
          "data": {
            "text/latex": [
              "$\\displaystyle \\left[\\begin{matrix}1.0 & 0.0 & 0.0\\\\-0.66666667 & 1.0 & 0.0\\\\-0.33333333 & 0.90909091 & 1.0\\end{matrix}\\right]$"
            ],
            "text/plain": [
              "Matrix([\n",
              "[        1.0,        0.0, 0.0],\n",
              "[-0.66666667,        1.0, 0.0],\n",
              "[-0.33333333, 0.90909091, 1.0]])"
            ]
          },
          "metadata": {},
          "output_type": "display_data"
        },
        {
          "name": "stdout",
          "output_type": "stream",
          "text": [
            "\n",
            "🟥 Matriz U (8 casas decimais):\n"
          ]
        },
        {
          "data": {
            "text/latex": [
              "$\\displaystyle \\left[\\begin{matrix}-3.0 & 4.0 & 2.0\\\\0.0 & 3.66666667 & 0.33333333\\\\0.0 & 0.0 & 3.36363636\\end{matrix}\\right]$"
            ],
            "text/plain": [
              "Matrix([\n",
              "[-3.0,        4.0,        2.0],\n",
              "[ 0.0, 3.66666667, 0.33333333],\n",
              "[ 0.0,        0.0, 3.36363636]])"
            ]
          },
          "metadata": {},
          "output_type": "display_data"
        },
        {
          "name": "stdout",
          "output_type": "stream",
          "text": [
            "\n",
            "📌 Vetor solução x (8 casas decimais):\n",
            "x1 = 43.24324324\n",
            "x2 = 29.45945946\n",
            "x3 = -4.05405405\n",
            "\n",
            "🔍 Verificação A * x:\n"
          ]
        },
        {
          "data": {
            "text/latex": [
              "$\\displaystyle \\left[\\begin{matrix}120.0\\\\-20.0\\\\90.0\\end{matrix}\\right]$"
            ],
            "text/plain": [
              "Matrix([\n",
              "[120.0],\n",
              "[-20.0],\n",
              "[ 90.0]])"
            ]
          },
          "metadata": {},
          "output_type": "display_data"
        },
        {
          "name": "stdout",
          "output_type": "stream",
          "text": [
            "\n",
            "🔍 Vetor b original:\n"
          ]
        },
        {
          "data": {
            "text/latex": [
              "$\\displaystyle \\left[\\begin{matrix}120.0\\\\-20.0\\\\90.0\\end{matrix}\\right]$"
            ],
            "text/plain": [
              "Matrix([\n",
              "[120.0],\n",
              "[-20.0],\n",
              "[ 90.0]])"
            ]
          },
          "metadata": {},
          "output_type": "display_data"
        }
      ],
      "source": [
        "import numpy as np\n",
        "import sympy as sp\n",
        "\n",
        "np.set_printoptions(precision=8, suppress=True)\n",
        "\n",
        "def lu_com_pivotamento_parcial(A):\n",
        "    n = A.shape[0]\n",
        "    L = np.eye(n)\n",
        "    U = A.copy().astype(np.float64)\n",
        "    P = np.eye(n)\n",
        "\n",
        "    for i in range(n):\n",
        "        # Pivotamento parcial\n",
        "        max_row = np.argmax(np.abs(U[i:, i])) + i\n",
        "        if i != max_row:\n",
        "            U[[i, max_row], :] = U[[max_row, i], :]\n",
        "            P[[i, max_row], :] = P[[max_row, i], :]\n",
        "            if i > 0:\n",
        "                L[[i, max_row], :i] = L[[max_row, i], :i]\n",
        "\n",
        "        for j in range(i+1, n):\n",
        "            if U[i, i] == 0:\n",
        "                raise ZeroDivisionError(\"Pivô zero encontrado!\")\n",
        "            fator = U[j, i] / U[i, i]\n",
        "            L[j, i] = fator\n",
        "            U[j, :] -= fator * U[i, :]\n",
        "\n",
        "    return P, L, U\n",
        "\n",
        "def resolver_sistema_lu(P, L, U, b):\n",
        "    # Aplica permutação ao vetor b\n",
        "    Pb = P @ b\n",
        "\n",
        "    # Substituição progressiva para resolver L*y = Pb\n",
        "    n = len(b)\n",
        "    y = np.zeros(n)\n",
        "    for i in range(n):\n",
        "        y[i] = Pb[i] - np.dot(L[i, :i], y[:i])\n",
        "\n",
        "    # Substituição regressiva para resolver U*x = y\n",
        "    x = np.zeros(n)\n",
        "    for i in range(n-1, -1, -1):\n",
        "        x[i] = (y[i] - np.dot(U[i, i+1:], x[i+1:])) / U[i, i]\n",
        "\n",
        "    return x\n",
        "\n",
        "def entrada_matriz():\n",
        "    n = int(input(\"Digite o tamanho da matriz no formato 'n' para nxn: \"))\n",
        "    A = np.zeros((n, n))\n",
        "    b = np.zeros(n)\n",
        "\n",
        "    print(\"\\n📥 Preenchendo a matriz A:\")\n",
        "    for i in range(n):\n",
        "        for j in range(n):\n",
        "            A[i, j] = float(input(f\"  a{i+1}{j+1}: \"))\n",
        "\n",
        "    print(\"\\n📥 Preenchendo o vetor b:\")\n",
        "    for i in range(n):\n",
        "        b[i] = float(input(f\"  b{i+1}: \"))\n",
        "\n",
        "    return A, b\n",
        "\n",
        "# Execução principal\n",
        "A, b = entrada_matriz()\n",
        "P, L, U = lu_com_pivotamento_parcial(A)\n",
        "x = resolver_sistema_lu(P, L, U, b)\n",
        "\n",
        "# Exibir resultados com 8 casas decimais\n",
        "print(\"\\n✅ Matriz A:\")\n",
        "display(sp.Matrix(A))\n",
        "\n",
        "print(\"\\n🔄 Matriz de Permutação P:\")\n",
        "display(sp.Matrix(P))\n",
        "\n",
        "print(\"\\n🟩 Matriz L (8 casas decimais):\")\n",
        "display(sp.Matrix(np.round(L, 8)))\n",
        "\n",
        "print(\"\\n🟥 Matriz U (8 casas decimais):\")\n",
        "display(sp.Matrix(np.round(U, 8)))\n",
        "\n",
        "print(\"\\n📌 Vetor solução x (8 casas decimais):\")\n",
        "for i, val in enumerate(x):\n",
        "    print(f\"x{i+1} = {val:.8f}\")\n",
        "\n",
        "# Verificação final\n",
        "print(\"\\n🔍 Verificação A * x:\")\n",
        "Ax = A @ x\n",
        "display(sp.Matrix(np.round(Ax, 8)))\n",
        "print(\"\\n🔍 Vetor b original:\")\n",
        "display(sp.Matrix(np.round(b, 8)))\n"
      ]
    },
    {
      "cell_type": "markdown",
      "metadata": {
        "id": "UF20JeSnu-2U"
      },
      "source": [
        "# Questão 4 - Letra b\n",
        "\n",
        "Resolvendo o sistema novamente pelo **método de fatoração LU**, utilizando 8 casas decimais, obtivemos os seguintes valores:\n",
        "\n",
        "- $x = 43{,}24324324$\n",
        "- $y = 29{,}45945946$\n",
        "- $z = -4{,}05405405$\n",
        "\n",
        "Comparando esses resultados com aqueles obtidos pelo **método da eliminação de Gauss**:\n",
        "\n",
        "- $x = 43{,}24330000$\n",
        "- $y = 29{,}45950000$\n",
        "- $z = -4{,}05409000$\n",
        "\n",
        "Observa-se uma pequena diferença a partir da quinta casa decimal. Essa variação é comum em métodos numéricos devido à acumulação de erros de arredondamento e à forma como cada algoritmo realiza os cálculos.\n",
        "\n",
        "De modo geral, a fatoração LU pode apresentar maior estabilidade numérica em algumas situações, resultando em ligeiramente maior precisão.\n",
        "\n",
        "Assim, embora ambos os métodos forneçam soluções muito próximas, o método LU demonstrou um resultado com precisão um pouco melhor neste caso.\n"
      ]
    },
    {
      "cell_type": "markdown",
      "metadata": {
        "id": "cK1Fg8YAxvhF"
      },
      "source": [
        "# Questão 4 - Letra (f)\n",
        "\n",
        "No contexto da rede de distribuição elétrica apresentada, as variáveis $x$, $y$ e $z$ representam a carga elétrica (em megawatts) associada a três subestações diferentes.\n",
        "\n",
        "Os valores aproximados são:\n",
        "\n",
        "- $x \\approx 43,24 \\text{ MW}$\n",
        "- $y \\approx 29,46 \\text{ MW}$\n",
        "- $z \\approx -4,05 \\text{ MW}$\n",
        "\n",
        "Interpretando esses resultados:\n",
        "\n",
        "- A subestação $x$ está fornecendo cerca de 43,24 MW para a rede;\n",
        "- A subestação $y$ está fornecendo cerca de 29,46 MW;\n",
        "- A subestação $z$ apresenta um valor negativo, indicando que ela está consumindo ou absorvendo aproximadamente 4,05 MW da rede.\n",
        "\n",
        "Ou seja, as subestações $x$ e $y$ são fontes líquidas de energia, enquanto a subestação $z$ atua como um ponto de demanda líquida, consumindo energia para equilibrar o sistema.\n"
      ]
    }
  ],
  "metadata": {
    "colab": {
      "provenance": []
    },
    "kernelspec": {
      "display_name": "Python 3",
      "name": "python3"
    },
    "language_info": {
      "name": "python"
    }
  },
  "nbformat": 4,
  "nbformat_minor": 0
}
