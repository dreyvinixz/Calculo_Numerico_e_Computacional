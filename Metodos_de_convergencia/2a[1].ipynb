{
  "cells": [
    {
      "cell_type": "markdown",
      "metadata": {
        "id": "2FEbEArMx0Pf"
      },
      "source": [
        "164402 - Andrey Vinicius Santos Souza"
      ]
    },
    {
      "cell_type": "code",
      "execution_count": 7,
      "metadata": {
        "colab": {
          "base_uri": "https://localhost:8080/",
          "height": 571
        },
        "id": "Ert-GSt1fopG",
        "outputId": "65348a41-4b4d-45c6-e1c8-152d7c4ea21f"
      },
      "outputs": [
        {
          "name": "stdout",
          "output_type": "stream",
          "text": [
            "Digite a função f(x) (ex: math.exp(-x) - x): x - 0.1*(80*math.exp(-0.1*x) - 20)\n",
            "Digite a função g(x) para ponto fixo (ex: math.exp(-x)): -10*math.log(0.25)\n",
            "Digite o valor inicial x₀: 1\n",
            "Digite o erro percentual de parada (ex: 5 para 5%): 0.01\n",
            "Digite o número máximo de iterações: 10\n",
            "Digite a raiz verdadeira (ou pressione Enter se não souber): \n",
            "\n",
            "Iter |     x_n     |    x_(n+1)  |   εa (%)   |  Erro real (%)\n",
            "   0 |   1.0000000 |  13.8629436 |   92.7865 |         nan\n",
            "   1 |  13.8629436 |  13.8629436 |    0.0000 |         nan\n",
            "\n",
            "✅ Convergiu para x ≈ 13.86294361 com erro aproximado de 0.0000%\n"
          ]
        },
        {
          "data": {
            "image/png": "[encoded data removed]",
            "text/plain": [
              "<Figure size 1000x400 with 1 Axes>"
            ]
          },
          "metadata": {},
          "output_type": "display_data"
        }
      ],
      "source": [
        "import math\n",
        "import matplotlib.pyplot as plt\n",
        "import numpy as np\n",
        "\n",
        "# Cria função segura a partir de string\n",
        "def criar_funcao(expr):\n",
        "    def func(x):\n",
        "        try:\n",
        "            return eval(expr, {\"x\": x, \"math\": math, \"np\": np})\n",
        "        except:\n",
        "            return float('nan')\n",
        "    return func\n",
        "\n",
        "# Método do ponto fixo com entrada geral\n",
        "def ponto_fixo_geral(f_expr, g_expr, x0, tol_percent, max_iter, raiz_verdadeira=None):\n",
        "    f = criar_funcao(f_expr)\n",
        "    g = criar_funcao(g_expr)\n",
        "\n",
        "    iteracoes = []\n",
        "    valores_x = []\n",
        "    erros_approx = []\n",
        "    erros_reais = []\n",
        "\n",
        "    print(\"\\nIter |     x_n     |    x_(n+1)  |   εa (%)   |  Erro real (%)\")\n",
        "    for i in range(max_iter):\n",
        "        x1 = g(x0)\n",
        "        if x1 != 0:\n",
        "            erro_aprox = abs((x1 - x0) / x1) * 100\n",
        "        else:\n",
        "            erro_aprox = float('inf')\n",
        "\n",
        "        if raiz_verdadeira is not None:\n",
        "            erro_real = abs((raiz_verdadeira - x1) / raiz_verdadeira) * 100\n",
        "        else:\n",
        "            erro_real = float('nan')\n",
        "\n",
        "        print(f\"{i:4d} | {x0:11.7f} | {x1:11.7f} | {erro_aprox:9.4f} | {erro_real:11.4f}\")\n",
        "\n",
        "        iteracoes.append(i)\n",
        "        valores_x.append(x1)\n",
        "        erros_approx.append(erro_aprox)\n",
        "        erros_reais.append(erro_real)\n",
        "\n",
        "        if erro_aprox < tol_percent:\n",
        "            print(f\"\\n✅ Convergiu para x ≈ {x1:.8f} com erro aproximado de {erro_aprox:.4f}%\")\n",
        "            break\n",
        "\n",
        "        x0 = x1\n",
        "\n",
        "    # Gráfico da convergência\n",
        "    plt.figure(figsize=(10, 4))\n",
        "    plt.plot(iteracoes, valores_x, marker='o', label='x aproximado')\n",
        "    if raiz_verdadeira is not None:\n",
        "        plt.axhline(raiz_verdadeira, color='red', linestyle='--', label='x verdadeiro')\n",
        "    plt.title(\"Convergência do Método do Ponto Fixo\")\n",
        "    plt.xlabel(\"Iteração\")\n",
        "    plt.ylabel(\"x\")\n",
        "    plt.legend()\n",
        "    plt.grid(True)\n",
        "    plt.tight_layout()\n",
        "    plt.show()\n",
        "\n",
        "    # Gráfico do erro real percentual\n",
        "    if raiz_verdadeira is not None:\n",
        "        plt.figure(figsize=(10, 4))\n",
        "        plt.plot(iteracoes, erros_reais, marker='x', color='orange', label='Erro real (%)')\n",
        "        plt.axhline(y=tol_percent, color='gray', linestyle='--', label=f'Tolerância {tol_percent}%')\n",
        "        plt.title(\"Erro Real Percentual em Cada Iteração\")\n",
        "        plt.xlabel(\"Iteração\")\n",
        "        plt.ylabel(\"Erro Real (%)\")\n",
        "        plt.legend()\n",
        "        plt.grid(True)\n",
        "        plt.tight_layout()\n",
        "        plt.show()\n",
        "\n",
        "# === ENTRADAS DO USUÁRIO ===\n",
        "try:\n",
        "    f_expr = input(\"Digite a função f(x) (ex: math.exp(-x) - x): \")\n",
        "    g_expr = input(\"Digite a função g(x) para ponto fixo (ex: math.exp(-x)): \")\n",
        "    x0 = float(input(\"Digite o valor inicial x₀: \"))\n",
        "    tol = float(input(\"Digite o erro percentual de parada (ex: 5 para 5%): \"))\n",
        "    max_iter = int(input(\"Digite o número máximo de iterações: \"))\n",
        "\n",
        "    raiz_input = input(\"Digite a raiz verdadeira (ou pressione Enter se não souber): \")\n",
        "    raiz_verdadeira = float(raiz_input) if raiz_input else None\n",
        "\n",
        "    ponto_fixo_geral(f_expr, g_expr, x0, tol, max_iter, raiz_verdadeira)\n",
        "\n",
        "except Exception as e:\n",
        "    print(f\"\\n❌ Erro: {e}\")\n"
      ]
    },
    {
      "cell_type": "markdown",
      "metadata": {
        "id": "emPg6Lrgz853"
      },
      "source": [
        "## Resolução da equação utilizando o método do ponto fixo\n",
        "\n",
        "Queremos resolver:\n",
        "\n",
        "$$\n",
        "80e^{-0{,}1t} + 10 = 30\n",
        "$$\n",
        "\n",
        "Isolando a exponencial:\n",
        "\n",
        "$$\n",
        "80e^{-0{,}1t} = 20 \\Rightarrow e^{-0{,}1t} = \\frac{1}{4}\n",
        "$$\n",
        "\n",
        "Aplicando logaritmo natural:\n",
        "\n",
        "$$\n",
        "-0{,}1t = \\ln\\left(\\frac{1}{4}\\right) \\Rightarrow t = -10 \\cdot \\ln\\left(\\frac{1}{4}\\right)\n",
        "$$\n",
        "\n",
        "A forma de **ponto fixo** exige reescrever a equação como:\n",
        "\n",
        "$$\n",
        "t = g(t)\n",
        "$$\n",
        "\n",
        "Portanto:\n",
        "\n",
        "$$\n",
        "g(t) = -10 \\cdot \\ln\\left(\\frac{30 - 10}{80}\\right) = -10 \\cdot \\ln\\left(\\frac{20}{80}\\right) = -10 \\cdot \\ln\\left(\\frac{1}{4}\\right)\n",
        "$$\n",
        "\n",
        "Como essa expressão resulta em uma **constante**, o método do ponto fixo converge imediatamente.\n",
        "\n",
        "---\n",
        "\n",
        "Usando x inicial como 1 e um erro percentual de parada de 0.01 encontramos:\n",
        "\n",
        "\n",
        "✅ **Convergiu para** $(x \\approx 13{,}8629436 )$ **com erro aproximado de** 0.0000%\n",
        "\n"
      ]
    }
  ],
  "metadata": {
    "colab": {
      "provenance": []
    },
    "kernelspec": {
      "display_name": "Python 3",
      "name": "python3"
    },
    "language_info": {
      "name": "python"
    }
  },
  "nbformat": 4,
  "nbformat_minor": 0
}
